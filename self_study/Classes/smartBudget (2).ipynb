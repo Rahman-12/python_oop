{
  "cells": [
    {
      "cell_type": "code",
      "execution_count": null,
      "metadata": {
        "id": "7HFO7OiC-iJG"
      },
      "outputs": [
        {
          "data": {
            "text/plain": [
              "'\\n1. add income\\n2. add expense (100, food)\\n3. view summary\\n4. exit\\n'"
            ]
          },
          "execution_count": 1,
          "metadata": {},
          "output_type": "execute_result"
        }
      ],
      "source": [
        "'''\n",
        "1. add income\n",
        "2. add expense (100, food)\n",
        "3. view summary\n",
        "4. exit\n",
        "'''"
      ]
    },
    {
      "cell_type": "code",
      "execution_count": null,
      "metadata": {
        "id": "bNxdNLvj-zbm"
      },
      "outputs": [],
      "source": [
        "def display_menu():\n",
        "  print('\\n---Smart budget tracker---')\n",
        "  print('1. Add income')\n",
        "  print('2. Add expense')\n",
        "  print('3. View summary')\n",
        "  print('4. Exit')"
      ]
    },
    {
      "cell_type": "code",
      "execution_count": null,
      "metadata": {
        "id": "fGrhd4Qp_K_Y"
      },
      "outputs": [],
      "source": [
        "def get_float_input(prompt):\n",
        "  while True:\n",
        "    try:\n",
        "      value = float(input(prompt))\n",
        "      if value < 0:\n",
        "        raise ValueError('Please enter a positive number')\n",
        "      return value\n",
        "    except ValueError as e:\n",
        "      print('Invalid:', e)"
      ]
    },
    {
      "cell_type": "code",
      "execution_count": null,
      "metadata": {
        "id": "jZs5o6V4_6uQ"
      },
      "outputs": [],
      "source": [
        "income = []\n",
        "expense = []\n",
        "expenses = {}"
      ]
    },
    {
      "cell_type": "code",
      "execution_count": null,
      "metadata": {
        "id": "qLpFo1AIAA4s"
      },
      "outputs": [],
      "source": [
        "def add_income():\n",
        "  amount = get_float_input('Enter income amount: ')\n",
        "  income.append(amount)\n",
        "  print('\\nIncome added successfully!')\n",
        "  "
      ]
    },
    {
      "cell_type": "code",
      "execution_count": null,
      "metadata": {
        "id": "-WaxYrOXATxW"
      },
      "outputs": [],
      "source": [
        "def add_expense():\n",
        "  category = input('Enter the category (e.g., Food, Rent, Bill, etc...): ')\n",
        "  amount = get_float_input('Enter expense amount: ')\n",
        "  # expense.append({'category': category, 'amount': amount})\n",
        "  if category in expenses:\n",
        "    expenses[category] += amount\n",
        "  else:\n",
        "    expenses[category] = amount\n",
        "  print('\\nExpense added successfully!')"
      ]
    },
    {
      "cell_type": "code",
      "execution_count": null,
      "metadata": {
        "id": "3wWGs970BZEE"
      },
      "outputs": [],
      "source": [
        "def view_summary():\n",
        "  total_income = sum(income)\n",
        "  total_expense = sum(item['amount'] for item in expense)\n",
        "  # amounts = []\n",
        "  # for item in expense:\n",
        "  #   amounts.append(item['amount'])\n",
        "  balance = total_income - total_expense\n",
        "\n",
        "  print('\\n Budget summary:')\n",
        "  print(f\"Total Income: {total_income:.2f}\")\n",
        "  print(f\"Total Expenses: {total_expense:.2f}\")\n",
        "  print(f\"Current Balance: {balance:.2f}\")\n",
        "\n",
        "  if balance < 0:\n",
        "    print(\"You're overspending\")\n",
        "  elif balance < total_income * 0.2:\n",
        "    print(\"You're close to budget limit\")\n",
        "  else:\n",
        "    print(\"You're doing well!\")\n",
        "\n",
        "  print('\\nExpense by category')\n",
        "  # category_totals = {}\n",
        "\n",
        "  # for item in expense:\n",
        "  #   category = item['category'].lower()\n",
        "  #   category_totals[category] = category_totals.get(category, 0) + item['amount']\n",
        "\n",
        "  # for cat, amt in category_totals.items():\n",
        "  #   print(f\"{cat.capitalize()} : {amt:.2f}\")\n",
        "\n",
        "  for cat, amt in expenses.items():\n",
        "    print(f\"{cat.capitalize()} : {amt:.2f}\")\n"
      ]
    },
    {
      "cell_type": "code",
      "execution_count": null,
      "metadata": {
        "colab": {
          "base_uri": "https://localhost:8080/"
        },
        "id": "sfODTK5QEgSg",
        "outputId": "02f44a19-d781-4590-9871-57e3a764390e"
      },
      "outputs": [
        {
          "name": "stdout",
          "output_type": "stream",
          "text": [
            "\n",
            "---Smart budget tracker---\n",
            "1. Add income\n",
            "2. Add expense\n",
            "3. View summary\n",
            "4. Exit\n"
          ]
        }
      ],
      "source": [
        "while True:\n",
        "  display_menu()\n",
        "  choice = input('Enter your choice: ')\n",
        "  if choice == '1':\n",
        "    add_income()\n",
        "  elif choice == '2':\n",
        "    add_expense()\n",
        "  elif choice == '3':\n",
        "    view_summary()\n",
        "  elif choice == '4':\n",
        "    break\n",
        "  else:\n",
        "    print('\\nInvalid option')"
      ]
    }
  ],
  "metadata": {
    "colab": {
      "provenance": []
    },
    "kernelspec": {
      "display_name": "Python 3",
      "name": "python3"
    },
    "language_info": {
      "codemirror_mode": {
        "name": "ipython",
        "version": 3
      },
      "file_extension": ".py",
      "mimetype": "text/x-python",
      "name": "python",
      "nbconvert_exporter": "python",
      "pygments_lexer": "ipython3",
      "version": "3.11.9"
    }
  },
  "nbformat": 4,
  "nbformat_minor": 0
}
