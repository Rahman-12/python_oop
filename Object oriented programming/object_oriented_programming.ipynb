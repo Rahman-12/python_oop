{
 "cells": [
  {
   "cell_type": "code",
   "execution_count": 13,
   "id": "dcb9723f",
   "metadata": {},
   "outputs": [],
   "source": [
    "class Human:\n",
    "    def __init__(self,name:str,age:int,current_location:str):\n",
    "        ''' this human object is having 3 feature '''\n",
    "        self._name = name\n",
    "        self._age = age\n",
    "        self._location = current_location\n",
    "    def describe(self):\n",
    "        print(f'the {self._name} have age {self._age} and curently living in {self._location}')\n",
    "    def __str__(self):\n",
    "        return 'Class \"Human\"'"
   ]
  },
  {
   "cell_type": "code",
   "execution_count": null,
   "id": "455a2387",
   "metadata": {},
   "outputs": [],
   "source": [
    "h1 = Human('marko',20,'berlin') # instance of human class\n",
    "h2 = Human('angela',25,'Japan') # "
   ]
  },
  {
   "cell_type": "code",
   "execution_count": 15,
   "id": "db7a211c",
   "metadata": {},
   "outputs": [
    {
     "name": "stdout",
     "output_type": "stream",
     "text": [
      "the marko have age 20 and curently living in berlin\n"
     ]
    }
   ],
   "source": [
    "h1.describe()"
   ]
  },
  {
   "cell_type": "code",
   "execution_count": 16,
   "id": "2cb687c1",
   "metadata": {},
   "outputs": [
    {
     "name": "stdout",
     "output_type": "stream",
     "text": [
      "the angela have age 25 and curently living in Japan\n"
     ]
    }
   ],
   "source": [
    "h2.describe()"
   ]
  },
  {
   "cell_type": "code",
   "execution_count": 17,
   "id": "3cfeb6b3",
   "metadata": {},
   "outputs": [
    {
     "name": "stdout",
     "output_type": "stream",
     "text": [
      "Class \"Human\"\n"
     ]
    }
   ],
   "source": [
    "print(h1)"
   ]
  },
  {
   "cell_type": "code",
   "execution_count": null,
   "id": "046b2883",
   "metadata": {},
   "outputs": [],
   "source": []
  },
  {
   "cell_type": "code",
   "execution_count": 6,
   "id": "34be60a5",
   "metadata": {},
   "outputs": [
    {
     "name": "stdout",
     "output_type": "stream",
     "text": [
      "the andy have age 25 and curently living in Japan\n"
     ]
    }
   ],
   "source": [
    "h2.describe()"
   ]
  },
  {
   "cell_type": "code",
   "execution_count": 1,
   "id": "57b50498",
   "metadata": {},
   "outputs": [],
   "source": [
    "## make a class called Animal (name, color, legs)\n",
    "class Animal:\n",
    "    def __init__(self,name:str,color:str,legs:int):\n",
    "        self.name=name\n",
    "        self.color=color\n",
    "        self.legs=legs\n",
    "    def describe(self):\n",
    "        print(f\"The name of your animal is{self.name}, it has a color of{self.color}, it has {self.legs} legs\")"
   ]
  },
  {
   "cell_type": "code",
   "execution_count": 2,
   "id": "31cdeff0",
   "metadata": {},
   "outputs": [],
   "source": [
    "class Cat(Animal):\n",
    "    def __init__(self, name, color, legs):\n",
    "        super().__init__(name, color, legs)\n",
    "        "
   ]
  },
  {
   "cell_type": "code",
   "execution_count": 6,
   "id": "a514083a",
   "metadata": {},
   "outputs": [
    {
     "name": "stdout",
     "output_type": "stream",
     "text": [
      "The name of your animal islily, it has a color ofred, it has 4 legs\n"
     ]
    }
   ],
   "source": [
    "c1 = Cat('lily','red','4')\n",
    "c1.describe()"
   ]
  },
  {
   "cell_type": "code",
   "execution_count": null,
   "id": "177f99eb",
   "metadata": {},
   "outputs": [],
   "source": []
  }
 ],
 "metadata": {
  "kernelspec": {
   "display_name": "Python 3",
   "language": "python",
   "name": "python3"
  },
  "language_info": {
   "codemirror_mode": {
    "name": "ipython",
    "version": 3
   },
   "file_extension": ".py",
   "mimetype": "text/x-python",
   "name": "python",
   "nbconvert_exporter": "python",
   "pygments_lexer": "ipython3",
   "version": "3.11.9"
  }
 },
 "nbformat": 4,
 "nbformat_minor": 5
}
